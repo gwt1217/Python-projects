{
 "cells": [
  {
   "cell_type": "code",
   "execution_count": 2,
   "metadata": {},
   "outputs": [],
   "source": [
    "# import necessary packages\n",
    "import pandas as pd\n",
    "import matplotlib.pyplot as plt\n",
    "import seaborn as sns\n",
    "import numpy as np\n",
    "import warnings\n",
    "warnings.filterwarnings('ignore')\n",
    "import numpy as np\n",
    "import scipy"
   ]
  },
  {
   "cell_type": "code",
   "execution_count": 3,
   "metadata": {},
   "outputs": [
    {
     "name": "stdout",
     "output_type": "stream",
     "text": [
      "# of rows: 13471\n",
      "# of columns: 5\n",
      "The column names are Index(['customer_id', 'gender', 'date', 'value', 'predicted_gender'], dtype='object')\n"
     ]
    }
   ],
   "source": [
    "# import data\n",
    "df=pd.read_csv('orders.csv')\n",
    "\n",
    "# descibe the data\n",
    "print('# of rows: {}'.format(df.shape[0]))\n",
    "print('# of columns: {}'.format(df.shape[1]))\n",
    "print('The column names are', df.columns)"
   ]
  },
  {
   "cell_type": "markdown",
   "metadata": {},
   "source": [
    "### <font color='blue'>A) Assemble a dataframe with one row per customer and the following columns:<font color='blue'>\n",
    "    customer_id\n",
    "    gender\n",
    "    most_recent_order_date\n",
    "    order_count (number of orders placed by this customer)\n",
    "   <font color='black'>Sort the dataframe by customer_id ascending and display the first 10 rows.<font color='black'>"
   ]
  },
  {
   "cell_type": "code",
   "execution_count": 4,
   "metadata": {},
   "outputs": [
    {
     "data": {
      "text/html": [
       "<div>\n",
       "<style scoped>\n",
       "    .dataframe tbody tr th:only-of-type {\n",
       "        vertical-align: middle;\n",
       "    }\n",
       "\n",
       "    .dataframe tbody tr th {\n",
       "        vertical-align: top;\n",
       "    }\n",
       "\n",
       "    .dataframe thead th {\n",
       "        text-align: right;\n",
       "    }\n",
       "</style>\n",
       "<table border=\"1\" class=\"dataframe\">\n",
       "  <thead>\n",
       "    <tr style=\"text-align: right;\">\n",
       "      <th></th>\n",
       "      <th>customer_id</th>\n",
       "      <th>gender</th>\n",
       "      <th>most_recent_order_date</th>\n",
       "      <th>order_count</th>\n",
       "    </tr>\n",
       "  </thead>\n",
       "  <tbody>\n",
       "    <tr>\n",
       "      <th>0</th>\n",
       "      <td>1000</td>\n",
       "      <td>0</td>\n",
       "      <td>2017-01-01 00:11:31</td>\n",
       "      <td>1</td>\n",
       "    </tr>\n",
       "    <tr>\n",
       "      <th>1</th>\n",
       "      <td>1001</td>\n",
       "      <td>0</td>\n",
       "      <td>2017-01-01 00:29:56</td>\n",
       "      <td>1</td>\n",
       "    </tr>\n",
       "    <tr>\n",
       "      <th>2</th>\n",
       "      <td>1002</td>\n",
       "      <td>1</td>\n",
       "      <td>2017-02-19 21:35:31</td>\n",
       "      <td>3</td>\n",
       "    </tr>\n",
       "    <tr>\n",
       "      <th>3</th>\n",
       "      <td>1003</td>\n",
       "      <td>1</td>\n",
       "      <td>2017-04-26 02:37:20</td>\n",
       "      <td>4</td>\n",
       "    </tr>\n",
       "    <tr>\n",
       "      <th>4</th>\n",
       "      <td>1004</td>\n",
       "      <td>0</td>\n",
       "      <td>2017-01-01 03:11:54</td>\n",
       "      <td>1</td>\n",
       "    </tr>\n",
       "    <tr>\n",
       "      <th>5</th>\n",
       "      <td>1005</td>\n",
       "      <td>1</td>\n",
       "      <td>2017-12-16 01:39:27</td>\n",
       "      <td>2</td>\n",
       "    </tr>\n",
       "    <tr>\n",
       "      <th>6</th>\n",
       "      <td>1006</td>\n",
       "      <td>1</td>\n",
       "      <td>2017-05-09 15:27:20</td>\n",
       "      <td>3</td>\n",
       "    </tr>\n",
       "    <tr>\n",
       "      <th>7</th>\n",
       "      <td>1007</td>\n",
       "      <td>0</td>\n",
       "      <td>2017-01-01 15:59:50</td>\n",
       "      <td>1</td>\n",
       "    </tr>\n",
       "    <tr>\n",
       "      <th>8</th>\n",
       "      <td>1008</td>\n",
       "      <td>0</td>\n",
       "      <td>2017-12-17 05:47:48</td>\n",
       "      <td>3</td>\n",
       "    </tr>\n",
       "    <tr>\n",
       "      <th>9</th>\n",
       "      <td>1009</td>\n",
       "      <td>1</td>\n",
       "      <td>2017-01-01 19:27:17</td>\n",
       "      <td>1</td>\n",
       "    </tr>\n",
       "  </tbody>\n",
       "</table>\n",
       "</div>"
      ],
      "text/plain": [
       "   customer_id  gender most_recent_order_date  order_count\n",
       "0         1000       0    2017-01-01 00:11:31            1\n",
       "1         1001       0    2017-01-01 00:29:56            1\n",
       "2         1002       1    2017-02-19 21:35:31            3\n",
       "3         1003       1    2017-04-26 02:37:20            4\n",
       "4         1004       0    2017-01-01 03:11:54            1\n",
       "5         1005       1    2017-12-16 01:39:27            2\n",
       "6         1006       1    2017-05-09 15:27:20            3\n",
       "7         1007       0    2017-01-01 15:59:50            1\n",
       "8         1008       0    2017-12-17 05:47:48            3\n",
       "9         1009       1    2017-01-01 19:27:17            1"
      ]
     },
     "execution_count": 4,
     "metadata": {},
     "output_type": "execute_result"
    }
   ],
   "source": [
    "# create column of datetimes in order to  sort reverse-chronologically\n",
    "df[\"datetime\"] = pd.to_datetime(df.date)\n",
    "\n",
    "# group by customer_id and convert dates into the separate columns\n",
    "grouped_df = df.sort_values(\n",
    "    \"datetime\", ascending=False\n",
    ").groupby(\"customer_id\")[\"date\"].apply(list).apply(pd.Series).reset_index()\n",
    "\n",
    "# truncate and rename columns\n",
    "grouped_df = grouped_df[[\"customer_id\",0]]\n",
    "grouped_df.columns = [\"customer_id\", \"most_recent_order_date\"]\n",
    "\n",
    "\n",
    "# count number of orders by customer_id and rename the column\n",
    "count_df = df[[\"customer_id\",\"value\"]].groupby(\"customer_id\")[\"value\"].agg([\"count\"]).rename(columns={'customer_id' : 'customer_id','count':'order_count'})\n",
    "\n",
    "\n",
    "# left join the three tables\n",
    "## merge most_recent_order_date and order_count\n",
    "df_new = grouped_df.merge(count_df, on='customer_id', how='left')\n",
    "\n",
    "## select customer_id and gender, and make sure one customer_id occurs once\n",
    "sub_df = df[[\"customer_id\",\"gender\"]].drop_duplicates()\n",
    "\n",
    "## merge most_recent_order_date, order_count and gender\n",
    "df_new = df_new.merge(sub_df, on='customer_id', how='left')\n",
    "\n",
    "## reorder the columns and sort the dataframe by customer_id \n",
    "df_new = df_new[[\"customer_id\",\"gender\",\"most_recent_order_date\",\"order_count\"]].sort_values(\"customer_id\")\n",
    "\n",
    "## display the first 10 rows\n",
    "df_new.head(10)\n"
   ]
  },
  {
   "cell_type": "markdown",
   "metadata": {},
   "source": [
    "### <font color='blue'>B) Plot the count of orders per week for the store.<font color='blue'>"
   ]
  },
  {
   "cell_type": "code",
   "execution_count": 5,
   "metadata": {},
   "outputs": [
    {
     "data": {
      "text/plain": [
       "Text(0.5, 0, 'week in 2017')"
      ]
     },
     "execution_count": 5,
     "metadata": {},
     "output_type": "execute_result"
    },
    {
     "data": {
      "image/png": "[encoded data removed]",
      "text/plain": [
       "<Figure size 432x288 with 1 Axes>"
      ]
     },
     "metadata": {
      "needs_background": "light"
     },
     "output_type": "display_data"
    }
   ],
   "source": [
    "# construct a dataframe with the week column and the value column\n",
    "df2 = df.loc[:, [\"value\"]]\n",
    "df2[\"week_of_year\"] = pd.to_datetime(df[\"date\"]).dt.week\n",
    "\n",
    "# count weekly orders\n",
    "df3 = (df2.groupby(\"week_of_year\").count().reset_index())\n",
    "\n",
    "# Plot results\n",
    "ax = df3.plot.scatter(x=\"week_of_year\", y=\"value\",  title='Count of orders per week for the store in 2017')\n",
    "\n",
    "# change the labels of x-axis and y-axis\n",
    "ax.set_ylabel(\"count of orders\")\n",
    "ax.set_xlabel(\"week in 2017\")"
   ]
  },
  {
   "cell_type": "markdown",
   "metadata": {},
   "source": [
    "### <font color='blue'>C) Compute the mean order value for gender 0 and for gender 1. Do you think the difference is significant?<font color='blue'>"
   ]
  },
  {
   "cell_type": "markdown",
   "metadata": {},
   "source": [
    "### <font color='black'>Assumption: Two samples of values of order for gender 0 and for gender 1 are independent.</font>"
   ]
  },
  {
   "cell_type": "markdown",
   "metadata": {},
   "source": [
    "### <font color='black'>Consideration: we need more information to verify that user behaviour of gender 0 is independent of user behaviour of gender 1.</font>"
   ]
  },
  {
   "cell_type": "code",
   "execution_count": 6,
   "metadata": {},
   "outputs": [
    {
     "data": {
      "text/html": [
       "<div>\n",
       "<style scoped>\n",
       "    .dataframe tbody tr th:only-of-type {\n",
       "        vertical-align: middle;\n",
       "    }\n",
       "\n",
       "    .dataframe tbody tr th {\n",
       "        vertical-align: top;\n",
       "    }\n",
       "\n",
       "    .dataframe thead th {\n",
       "        text-align: right;\n",
       "    }\n",
       "</style>\n",
       "<table border=\"1\" class=\"dataframe\">\n",
       "  <thead>\n",
       "    <tr style=\"text-align: right;\">\n",
       "      <th></th>\n",
       "      <th>mean_order_value</th>\n",
       "    </tr>\n",
       "    <tr>\n",
       "      <th>gender</th>\n",
       "      <th></th>\n",
       "    </tr>\n",
       "  </thead>\n",
       "  <tbody>\n",
       "    <tr>\n",
       "      <th>0</th>\n",
       "      <td>363.890006</td>\n",
       "    </tr>\n",
       "    <tr>\n",
       "      <th>1</th>\n",
       "      <td>350.708361</td>\n",
       "    </tr>\n",
       "  </tbody>\n",
       "</table>\n",
       "</div>"
      ],
      "text/plain": [
       "        mean_order_value\n",
       "gender                  \n",
       "0             363.890006\n",
       "1             350.708361"
      ]
     },
     "execution_count": 6,
     "metadata": {},
     "output_type": "execute_result"
    }
   ],
   "source": [
    "df[[\"gender\",\"value\"]].groupby(\"gender\")[\"value\"].agg([\"mean\"]).rename(columns={'gender' : 'gender','mean':'mean_order_value'})\n",
    "# From the table below we know that the mean order value for gender 0 is 369.89 \n",
    "#and mean order value for gender 1 is 350.71"
   ]
  },
  {
   "cell_type": "markdown",
   "metadata": {},
   "source": [
    "<font color='black'>From the table above, we know that the mean order value for gender 0 is 369.89 and mean order value for gender 1 is 350.71. To verify the difference is significant, the procedures are below.<font color='black'>"
   ]
  },
  {
   "cell_type": "markdown",
   "metadata": {},
   "source": [
    "### <font color='black'>1.Assumption Check</font>"
   ]
  },
  {
   "cell_type": "markdown",
   "metadata": {},
   "source": [
    "##### <font color='black'>(1) Assumptions of normality (Graphical method & Shapiro-Wilk’s W test)</font>"
   ]
  },
  {
   "cell_type": "code",
   "execution_count": 7,
   "metadata": {},
   "outputs": [
    {
     "data": {
      "image/png": "[encoded data removed]",
      "text/plain": [
       "<Figure size 432x288 with 1 Axes>"
      ]
     },
     "metadata": {
      "needs_background": "light"
     },
     "output_type": "display_data"
    },
    {
     "data": {
      "image/png": "[encoded data removed]",
      "text/plain": [
       "<Figure size 432x288 with 1 Axes>"
      ]
     },
     "metadata": {
      "needs_background": "light"
     },
     "output_type": "display_data"
    },
    {
     "data": {
      "image/png": "[encoded data removed]",
      "text/plain": [
       "<Figure size 432x288 with 1 Axes>"
      ]
     },
     "metadata": {
      "needs_background": "light"
     },
     "output_type": "display_data"
    }
   ],
   "source": [
    "# To test two group difference, the first thing to do is to test normality\n",
    "\n",
    "# Visual inspection 1: Distribution plot\n",
    "fig=plt.figure()\n",
    "sns.distplot(df[df.gender == 0].value,hist=False,label='0')\n",
    "sns.distplot(df[df.gender == 1].value,hist=False,label='1')\n",
    "plt.legend(['0','1'])\n",
    "plt.title('Distribution of values by gender')\n",
    "plt.show()\n",
    "\n",
    "\n",
    "# # Visual inspection 2: Q-Q plot\n",
    "import statsmodels.api as sm\n",
    "import pylab\n",
    "from scipy import stats\n",
    "# subset the values for gender=0 and gender=1 separately\n",
    "gender_0 = df.query('gender == 0')['value']\n",
    "gender_1 = df.query('gender == 1')['value']\n",
    "\n",
    "sm.qqplot(gender_0, loc = 4, scale = 3, line='s')\n",
    "sm.qqplot(gender_1, loc = 4, scale = 3, line='s')\n",
    "pylab.show()\n",
    "\n",
    "# From the distribution plot and Q-Q plots below, we can see that distribution of values is far from normal distribution \n",
    "# because the distribution plot have heavy right tails. But I need to use the Shapiro-Wilk test to further vertify my \n",
    "# visual inspection."
   ]
  },
  {
   "cell_type": "markdown",
   "metadata": {},
   "source": [
    "<font color='black'>From the distribution plot and Q-Q plots above, we can see that distribution of values is far from normal distribution because the distribution plot has heavy right tails. But I need to use Shapiro-Wilk test to further verify my visual inspection.<font color='black'>"
   ]
  },
  {
   "cell_type": "markdown",
   "metadata": {},
   "source": [
    "##### <font color='black'>Shapiro-Wilk test<font color='black'>\n",
    "    \n",
    "<font color='black'>Null hypothesis: Sample came from a normally distributed population<font color='black'>"
   ]
  },
  {
   "cell_type": "code",
   "execution_count": 191,
   "metadata": {},
   "outputs": [
    {
     "name": "stdout",
     "output_type": "stream",
     "text": [
      "p-value for gender 0 is 0.0\n",
      "p-value for gender 1 is 0.0\n"
     ]
    }
   ],
   "source": [
    "# Shapiro-Wilk test\n",
    "# Null hypothesis: Sample came from a normally distributed population\n",
    "print(\"p-value for gender 0 is\", stats.shapiro(gender_0)[1])\n",
    "print(\"p-value for gender 1 is\", stats.shapiro(gender_1)[1])\n",
    "\n",
    "# The p-value for gender 0 and gender 1 are both less than 0.05 (p-values =0), \n",
    "# so the null hypothesis is rejected and \n",
    "# thus there is evidence that the data is not from a normally distributed population"
   ]
  },
  {
   "cell_type": "markdown",
   "metadata": {},
   "source": [
    "<font color='black'>The p-value for gender 0 and gender 1 are both less than 0.05 (p-values =0), so the null hypothesis is rejected and thus there is evidence that the data is not from a normally distributed population.<font color='black'>"
   ]
  },
  {
   "cell_type": "markdown",
   "metadata": {},
   "source": [
    " ##### <font color='black'>(2) Assumptions of homogeneity of variance</font>"
   ]
  },
  {
   "cell_type": "code",
   "execution_count": 196,
   "metadata": {},
   "outputs": [
    {
     "name": "stdout",
     "output_type": "stream",
     "text": [
      "Statistics=5.523, p=0.019\n",
      "Two samples don't have equal variances(reject H0)\n"
     ]
    }
   ],
   "source": [
    "# Null hypothesis: two samples have equal variances\n",
    "stat, p = scipy.stats.levene(gender_0,gender_1)\n",
    "# Print results\n",
    "print('Statistics=%.3f, p=%.3f' % (stat, p))\n",
    "# interpret\n",
    "alpha = 0.05\n",
    "if p > alpha:\n",
    "    print('Two samples have equal variances (fail to reject H0)')\n",
    "else:\n",
    "    print(\"Two samples don't have equal variances(reject H0)\")"
   ]
  },
  {
   "cell_type": "markdown",
   "metadata": {},
   "source": [
    "<font color='black'>Variances of two samples are significantly different and thus parametric tests cannot be used.</font>"
   ]
  },
  {
   "cell_type": "markdown",
   "metadata": {},
   "source": [
    "### <font color='black'>2.Non-parametric tests to compare two samples</font>"
   ]
  },
  {
   "cell_type": "markdown",
   "metadata": {},
   "source": [
    "#### <font color='black'>Choice:  Wilcoxon signed-rank test VS Wilcoxon rank sum test</font>"
   ]
  },
  {
   "cell_type": "code",
   "execution_count": 142,
   "metadata": {},
   "outputs": [
    {
     "name": "stdout",
     "output_type": "stream",
     "text": [
      "The length of gender 0 is 6759\n",
      "The length of gender 1 is 6712\n"
     ]
    }
   ],
   "source": [
    "print('The length of gender 0 is', len(gender_0))\n",
    "print('The length of gender 1 is',len(gender_1))"
   ]
  },
  {
   "cell_type": "markdown",
   "metadata": {},
   "source": [
    "<font color='black'>Choose Wilcoxon rank sum test  because they are unpaired samples</font>"
   ]
  },
  {
   "cell_type": "markdown",
   "metadata": {},
   "source": [
    "#### <font color='black'>Choice 1: Use Mann Whitney test (Wilcoxon rank sum test)</font> \n",
    "#### <font color='black'>Null hypothesis: Difference is not statistically significant</font>"
   ]
  },
  {
   "cell_type": "code",
   "execution_count": 203,
   "metadata": {},
   "outputs": [
    {
     "name": "stdout",
     "output_type": "stream",
     "text": [
      "Statistics=22451444.500, p=0.152\n",
      "Difference is not statistically significant (fail to reject H0)\n"
     ]
    }
   ],
   "source": [
    "# use Mann Whitney test for comparison of two groups of data where the data is not normally distributed\n",
    "stat, p = stats.mannwhitneyu(gender_0, gender_1)\n",
    "\n",
    "# Print results\n",
    "print('Statistics=%.3f, p=%.3f' % (stat, p))\n",
    "# interpret\n",
    "alpha = 0.05\n",
    "if p > alpha:\n",
    "    print('Difference is not statistically significant (fail to reject H0)')\n",
    "else:\n",
    "    print('Difference is statistically significant (reject H0)')\n",
    "\n",
    "# P-value > 0.05, fail to reject the null hypothesis, \n",
    "# i.e., there's no statistically significant difference between gender 1 and gender 0.\n"
   ]
  },
  {
   "cell_type": "markdown",
   "metadata": {},
   "source": [
    "#### <font color='black'>Choice 2: Use Wilcoxon rank sum test (just to confirm my previous judgment)</font> \n",
    "#### <font color='black'>Null hypothesis: Difference is not statistically significant</font>"
   ]
  },
  {
   "cell_type": "code",
   "execution_count": 201,
   "metadata": {},
   "outputs": [
    {
     "name": "stdout",
     "output_type": "stream",
     "text": [
      "Statistics=1.027, p=0.304\n",
      "Difference is not statistically significant (fail to reject H0)\n"
     ]
    }
   ],
   "source": [
    "# compare samples\n",
    "stat, p = scipy.stats.ranksums(gender_0, gender_1)\n",
    "print('Statistics=%.3f, p=%.3f' % (stat, p))\n",
    "# interpret\n",
    "alpha = 0.05\n",
    "if p > alpha:\n",
    "    print('Difference is not statistically significant (fail to reject H0)')\n",
    "else:\n",
    "    print('Difference is statistically significant (reject H0)')\n"
   ]
  },
  {
   "cell_type": "markdown",
   "metadata": {},
   "source": [
    "#### <font color='black'>Conclusion: Based on analysis above, the difference is not statistically significant.</font>"
   ]
  },
  {
   "cell_type": "markdown",
   "metadata": {},
   "source": [
    "### <font color='blue'>D) Assuming a single gender prediction was made for each customer, generate a confusion matrix for predicted gender. What does the confusion matrix tell you about the quality of the predictions?<font color='blue'>"
   ]
  },
  {
   "cell_type": "code",
   "execution_count": 146,
   "metadata": {},
   "outputs": [],
   "source": [
    "# remove duplicate records\n",
    "gender_df = df[[\"customer_id\",\"gender\",'predicted_gender']].drop_duplicates()"
   ]
  },
  {
   "cell_type": "code",
   "execution_count": 128,
   "metadata": {},
   "outputs": [
    {
     "data": {
      "text/html": [
       "<div>\n",
       "<style scoped>\n",
       "    .dataframe tbody tr th:only-of-type {\n",
       "        vertical-align: middle;\n",
       "    }\n",
       "\n",
       "    .dataframe tbody tr th {\n",
       "        vertical-align: top;\n",
       "    }\n",
       "\n",
       "    .dataframe thead th {\n",
       "        text-align: right;\n",
       "    }\n",
       "</style>\n",
       "<table border=\"1\" class=\"dataframe\">\n",
       "  <thead>\n",
       "    <tr style=\"text-align: right;\">\n",
       "      <th>Predicted</th>\n",
       "      <th>0</th>\n",
       "      <th>1</th>\n",
       "      <th>All</th>\n",
       "    </tr>\n",
       "    <tr>\n",
       "      <th>Actual</th>\n",
       "      <th></th>\n",
       "      <th></th>\n",
       "      <th></th>\n",
       "    </tr>\n",
       "  </thead>\n",
       "  <tbody>\n",
       "    <tr>\n",
       "      <th>0</th>\n",
       "      <td>2189</td>\n",
       "      <td>2218</td>\n",
       "      <td>4407</td>\n",
       "    </tr>\n",
       "    <tr>\n",
       "      <th>1</th>\n",
       "      <td>895</td>\n",
       "      <td>3512</td>\n",
       "      <td>4407</td>\n",
       "    </tr>\n",
       "    <tr>\n",
       "      <th>All</th>\n",
       "      <td>3084</td>\n",
       "      <td>5730</td>\n",
       "      <td>8814</td>\n",
       "    </tr>\n",
       "  </tbody>\n",
       "</table>\n",
       "</div>"
      ],
      "text/plain": [
       "Predicted     0     1   All\n",
       "Actual                     \n",
       "0          2189  2218  4407\n",
       "1           895  3512  4407\n",
       "All        3084  5730  8814"
      ]
     },
     "execution_count": 128,
     "metadata": {},
     "output_type": "execute_result"
    }
   ],
   "source": [
    "y_actu = pd.Series(gender_df[\"gender\"], name='Actual')\n",
    "y_pred = pd.Series(gender_df[\"predicted_gender\"], name='Predicted')\n",
    "df_confusion = pd.crosstab(y_actu, y_pred,rownames=['Actual'], colnames=['Predicted'], margins=True)\n",
    "\n",
    "# print confusion matrix \n",
    "df_confusion"
   ]
  },
  {
   "cell_type": "code",
   "execution_count": 172,
   "metadata": {},
   "outputs": [
    {
     "name": "stdout",
     "output_type": "stream",
     "text": [
      "              precision    recall  f1-score   support\n",
      "\n",
      "           0       0.71      0.50      0.58      4407\n",
      "           1       0.61      0.80      0.69      4407\n",
      "\n",
      "    accuracy                           0.65      8814\n",
      "   macro avg       0.66      0.65      0.64      8814\n",
      "weighted avg       0.66      0.65      0.64      8814\n",
      "\n"
     ]
    }
   ],
   "source": [
    "# calcaulate sensitivity/recall and specificity\n",
    "TN = df_confusion[0][0]\n",
    "FN = df_confusion[0][1]\n",
    "TP = df_confusion[1][1]\n",
    "FP = df_confusion[1][0]\n",
    "\n",
    "Sensitivity = TP / (TP+FN)\n",
    "Specificity = TN / (TN+FP)\n",
    "\n",
    "# calcaulate precision\n",
    "Precision = TP /(TP+FP)\n",
    "\n",
    "# # calcaulate f1-score\n",
    "F1_Score = (2 * Precision * Sensitivity) / (Precision + Sensitivity) \n",
    "\n",
    "# calcaulate precision score, recall score, and f1-score using python package\n",
    "import sklearn\n",
    "print(sklearn.metrics.classification_report(y_actu, y_pred))\n"
   ]
  },
  {
   "cell_type": "code",
   "execution_count": 204,
   "metadata": {},
   "outputs": [
    {
     "name": "stdout",
     "output_type": "stream",
     "text": [
      "The sensitivity/recall score is 0.7969140004538234\n",
      "The specificity is 0.4967097798956206\n",
      "The precision is 0.612914485165794\n",
      "The F1 Score is 0.6929071717470652\n",
      "The fasle positive cases is 2218\n",
      "The fasle negative cases is 895\n"
     ]
    }
   ],
   "source": [
    "print(\"The sensitivity/recall score is\", Sensitivity)\n",
    "print(\"The specificity is\", Specificity)\n",
    "print(\"The precision is\", Precision)\n",
    "print(\"The F1 Score is\", F1_Score)\n",
    "\n",
    "print(\"The fasle positive cases is\", FP)\n",
    "print(\"The fasle negative cases is\", FN)"
   ]
  }
 ],
 "metadata": {
  "kernelspec": {
   "display_name": "Python 3",
   "language": "python",
   "name": "python3"
  },
  "language_info": {
   "codemirror_mode": {
    "name": "ipython",
    "version": 3
   },
   "file_extension": ".py",
   "mimetype": "text/x-python",
   "name": "python",
   "nbconvert_exporter": "python",
   "pygments_lexer": "ipython3",
   "version": "3.7.2"
  },
  "toc": {
   "base_numbering": 1,
   "nav_menu": {},
   "number_sections": true,
   "sideBar": true,
   "skip_h1_title": false,
   "title_cell": "Table of Contents",
   "title_sidebar": "Contents",
   "toc_cell": false,
   "toc_position": {},
   "toc_section_display": true,
   "toc_window_display": false
  }
 },
 "nbformat": 4,
 "nbformat_minor": 2
}
